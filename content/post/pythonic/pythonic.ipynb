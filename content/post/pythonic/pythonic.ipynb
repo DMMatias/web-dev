{
  "nbformat": 4,
  "nbformat_minor": 0,
  "metadata": {
    "colab": {
      "provenance": []
    },
    "kernelspec": {
      "name": "python3",
      "display_name": "Python 3"
    },
    "language_info": {
      "name": "python"
    }
  },
  "cells": [
    {
      "cell_type": "markdown",
      "source": [
        "# Are you writing pythonic code?"
      ],
      "metadata": {
        "id": "tUWg7ow-v5LW"
      }
    },
    {
      "cell_type": "markdown",
      "source": [
        "Believe it or not, there's a whole lot more to python than just programming. There's a whole philosophy surronding writing Python code. And there's no better telling of the principles of writing pythonic code than *The Zen of Python*, go ahead and open up your favourite Python IDE and type this:"
      ],
      "metadata": {
        "id": "lhbgQpYAwAL-"
      }
    },
    {
      "cell_type": "code",
      "execution_count": 1,
      "metadata": {
        "colab": {
          "base_uri": "https://localhost:8080/"
        },
        "id": "7ceEuG2pv4h1",
        "outputId": "9b6f67ed-6382-4535-a54a-573c5676bbf3"
      },
      "outputs": [
        {
          "output_type": "stream",
          "name": "stdout",
          "text": [
            "The Zen of Python, by Tim Peters\n",
            "\n",
            "Beautiful is better than ugly.\n",
            "Explicit is better than implicit.\n",
            "Simple is better than complex.\n",
            "Complex is better than complicated.\n",
            "Flat is better than nested.\n",
            "Sparse is better than dense.\n",
            "Readability counts.\n",
            "Special cases aren't special enough to break the rules.\n",
            "Although practicality beats purity.\n",
            "Errors should never pass silently.\n",
            "Unless explicitly silenced.\n",
            "In the face of ambiguity, refuse the temptation to guess.\n",
            "There should be one-- and preferably only one --obvious way to do it.\n",
            "Although that way may not be obvious at first unless you're Dutch.\n",
            "Now is better than never.\n",
            "Although never is often better than *right* now.\n",
            "If the implementation is hard to explain, it's a bad idea.\n",
            "If the implementation is easy to explain, it may be a good idea.\n",
            "Namespaces are one honking great idea -- let's do more of those!\n"
          ]
        }
      ],
      "source": [
        "import"
      ]
    },
    {
      "cell_type": "markdown",
      "source": [
        "Yep, Python is so self-documenting that it bundles its own principles. You should see *The Zen of Python* as a mantra that shall follow you through your Python journey.\n",
        "\n",
        "## Getting into the Python mindset\n",
        "\n",
        "Let's say you want to attribute a list with a set of coordinates to their own variables, if you come from a different programming language, you may feel tempted to do it like this:\n"
      ],
      "metadata": {
        "id": "1eLhPpFtwvn1"
      }
    },
    {
      "cell_type": "code",
      "source": [
        "coord = (1, 2, 3)\n",
        "x = coord[0]\n",
        "y = coord[1]\n",
        "z = coord[2]\n",
        "print(f\"Your coordinates are: ({x},{y},{z})\")"
      ],
      "metadata": {
        "colab": {
          "base_uri": "https://localhost:8080/"
        },
        "id": "XapwUGiOxu7A",
        "outputId": "ea528e77-d70a-4616-80da-0382a06b842a"
      },
      "execution_count": 3,
      "outputs": [
        {
          "output_type": "stream",
          "name": "stdout",
          "text": [
            "Your coordinates are: (1,2,3)\n"
          ]
        }
      ]
    },
    {
      "cell_type": "markdown",
      "source": [
        "You'll probably be content with this implementation, it's pretty much as elegant as it gets when it comes to deconstucting a tuple. However, as straightforwared as this code may be at first, it is not *pythonic*. Let's take a look at another implementation that integrates this philosophy:"
      ],
      "metadata": {
        "id": "vplqoAEnyEhb"
      }
    },
    {
      "cell_type": "code",
      "source": [
        "coord = (1, 2, 3)\n",
        "x,y,z = (1, 2, 3)\n",
        "print(f\"Your coordinates are: ({x},{y},{z})\")"
      ],
      "metadata": {
        "colab": {
          "base_uri": "https://localhost:8080/"
        },
        "id": "X1s6WuSmyir8",
        "outputId": "069731bb-3a2f-4c27-97a4-16ecde8da8e9"
      },
      "execution_count": 4,
      "outputs": [
        {
          "output_type": "stream",
          "name": "stdout",
          "text": [
            "Your coordinates are: (1,2,3)\n"
          ]
        }
      ]
    },
    {
      "cell_type": "markdown",
      "source": [
        "As you can see, the result is exactly the same. As for the computational complexity of the code, it also didn't seem to change much - the interpreter still had to assign those values to each of the corresponding in-memory locations. However, the second implementation has two key advantages:\n",
        "* It has less lines of code\n",
        "* It takes advantage of Python's multiple assignments\n",
        "* It is more readable\n",
        "\n",
        "You just stumbled into the heart of Python - the philosophy that your code does not only need to work, but it also needs to be readable to your fellow developers. Programming in Python is, as we can conclude, much more than an exercise of computer science, it is an art."
      ],
      "metadata": {
        "id": "z4Jl4O0qytEq"
      }
    }
  ]
}